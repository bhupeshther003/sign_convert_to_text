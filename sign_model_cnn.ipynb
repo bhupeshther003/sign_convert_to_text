{
  "cells": [
    {
      "cell_type": "code",
      "execution_count": null,
      "metadata": {
        "id": "3he8WZrxCSPn"
      },
      "outputs": [],
      "source": []
    },
    {
      "cell_type": "code",
      "execution_count": null,
      "metadata": {
        "colab": {
          "base_uri": "https://localhost:8080/"
        },
        "id": "8NkY83JOCTt8",
        "outputId": "1c0cd8a3-66bd-405c-9a50-6a0609ed3e93"
      },
      "outputs": [
        {
          "name": "stdout",
          "output_type": "stream",
          "text": [
            "Epoch 1/10\n",
            "56/56 [==============================] - 2s 29ms/step - loss: 1.5349 - accuracy: 0.4437 - val_loss: 0.8623 - val_accuracy: 0.6329\n",
            "Epoch 2/10\n",
            "56/56 [==============================] - 1s 23ms/step - loss: 0.6413 - accuracy: 0.7708 - val_loss: 0.5707 - val_accuracy: 0.7973\n",
            "Epoch 3/10\n",
            "56/56 [==============================] - 1s 23ms/step - loss: 0.3653 - accuracy: 0.8677 - val_loss: 0.4144 - val_accuracy: 0.8896\n",
            "Epoch 4/10\n",
            "56/56 [==============================] - 1s 23ms/step - loss: 0.2699 - accuracy: 0.9026 - val_loss: 0.1808 - val_accuracy: 0.9392\n",
            "Epoch 5/10\n",
            "56/56 [==============================] - 1s 25ms/step - loss: 0.1649 - accuracy: 0.9448 - val_loss: 0.1780 - val_accuracy: 0.9212\n",
            "Epoch 6/10\n",
            "56/56 [==============================] - 1s 24ms/step - loss: 0.1325 - accuracy: 0.9550 - val_loss: 0.1456 - val_accuracy: 0.9685\n",
            "Epoch 7/10\n",
            "56/56 [==============================] - 1s 25ms/step - loss: 0.0762 - accuracy: 0.9775 - val_loss: 0.1131 - val_accuracy: 0.9572\n",
            "Epoch 8/10\n",
            "56/56 [==============================] - 1s 24ms/step - loss: 0.0818 - accuracy: 0.9752 - val_loss: 0.0672 - val_accuracy: 0.9775\n",
            "Epoch 9/10\n",
            "56/56 [==============================] - 1s 25ms/step - loss: 0.0402 - accuracy: 0.9870 - val_loss: 0.0562 - val_accuracy: 0.9865\n",
            "Epoch 10/10\n",
            "56/56 [==============================] - 1s 25ms/step - loss: 0.0264 - accuracy: 0.9916 - val_loss: 0.0661 - val_accuracy: 0.9752\n"
          ]
        },
        {
          "name": "stderr",
          "output_type": "stream",
          "text": [
            "/usr/local/lib/python3.10/dist-packages/keras/src/engine/training.py:3103: UserWarning: You are saving your model as an HDF5 file via `model.save()`. This file format is considered legacy. We recommend using instead the native Keras format, e.g. `model.save('my_model.keras')`.\n",
            "  saving_api.save_model(\n"
          ]
        },
        {
          "name": "stdout",
          "output_type": "stream",
          "text": [
            "1/1 [==============================] - 0s 70ms/step\n",
            "accomplish\n"
          ]
        }
      ],
      "source": [
        "import os\n",
        "import cv2\n",
        "import numpy as np\n",
        "from sklearn.model_selection import train_test_split\n",
        "from sklearn.preprocessing import LabelEncoder\n",
        "import tensorflow as tf\n",
        "from tensorflow.keras import layers, models\n",
        "\n",
        "# Define constants\n",
        "IMG_SIZE = 64  # Resize images to 64x64 pixels\n",
        "\n",
        "# Function to load and preprocess image data\n",
        "def load_data(data_dir):\n",
        "    data = []\n",
        "    labels = []\n",
        "\n",
        "    for word_folder in os.listdir(data_dir):\n",
        "        word_path = os.path.join(data_dir, word_folder)\n",
        "        if os.path.isdir(word_path):\n",
        "            for image_name in os.listdir(word_path):\n",
        "                image_path = os.path.join(word_path, image_name)\n",
        "                image = cv2.imread(image_path)\n",
        "                if image is not None:\n",
        "                    image = cv2.cvtColor(image, cv2.COLOR_BGR2RGB)\n",
        "                    image = cv2.resize(image, (IMG_SIZE, IMG_SIZE))\n",
        "                    data.append(image)\n",
        "                    labels.append(word_folder)\n",
        "\n",
        "    data = np.array(data)\n",
        "    labels = np.array(labels)\n",
        "    return data, labels\n",
        "\n",
        "# Load data\n",
        "DATA_DIR = '/content/drive/MyDrive/sign_data'\n",
        "data, labels = load_data(DATA_DIR)\n",
        "\n",
        "# Encode string labels to integers\n",
        "label_encoder = LabelEncoder()\n",
        "labels = label_encoder.fit_transform(labels)\n",
        "\n",
        "# Split data into train and test sets\n",
        "X_train, X_test, y_train, y_test = train_test_split(data, labels, test_size=0.2, random_state=42)\n",
        "\n",
        "# Normalize pixel values to between 0 and 1\n",
        "X_train = X_train / 255.0\n",
        "X_test = X_test / 255.0\n",
        "\n",
        "# Define CNN model\n",
        "model = models.Sequential([\n",
        "    layers.Conv2D(32, (3, 3), activation='relu', input_shape=(IMG_SIZE, IMG_SIZE, 3)),\n",
        "    layers.MaxPooling2D((2, 2)),\n",
        "    layers.Conv2D(64, (3, 3), activation='relu'),\n",
        "    layers.MaxPooling2D((2, 2)),\n",
        "    layers.Conv2D(128, (3, 3), activation='relu'),\n",
        "    layers.MaxPooling2D((2, 2)),\n",
        "    layers.Flatten(),\n",
        "    layers.Dense(128, activation='relu'),\n",
        "    layers.Dense(len(np.unique(labels)), activation='softmax')  # Output layer with softmax for multiclass classification\n",
        "])\n",
        "\n",
        "# Compile the model\n",
        "model.compile(optimizer='adam',\n",
        "              loss='sparse_categorical_crossentropy',\n",
        "              metrics=['accuracy'])\n",
        "\n",
        "# Train the model\n",
        "model.fit(X_train, y_train, epochs=10, validation_data=(X_test, y_test))\n",
        "\n",
        "# Save the trained model\n",
        "model.save('sign_language_cnn_model.h5')\n",
        "\n",
        "# Example usage of the trained model for prediction\n",
        "def detect_sign_cnn(image_path, model):\n",
        "    image = cv2.imread(image_path)\n",
        "    image = cv2.cvtColor(image, cv2.COLOR_BGR2RGB)\n",
        "    image = cv2.resize(image, (IMG_SIZE, IMG_SIZE))\n",
        "    image = np.expand_dims(image, axis=0)  # Expand dimensions to match model input shape\n",
        "    image = image / 255.0  # Normalize\n",
        "\n",
        "    prediction = model.predict(image)\n",
        "    predicted_class = np.argmax(prediction)\n",
        "\n",
        "    # Convert predicted_class back to the original label\n",
        "    predicted_label = label_encoder.inverse_transform([predicted_class])[0]\n",
        "\n",
        "    return predicted_label\n",
        "\n",
        "# Example usage:\n",
        "# Load the trained model\n",
        "loaded_model = tf.keras.models.load_model('sign_language_cnn_model.h5')\n",
        "print(detect_sign_cnn('/content/drive/MyDrive/sign_frames/above/00431_frame60_frame0.jpg', loaded_model))\n"
      ]
    },
    {
      "cell_type": "code",
      "execution_count": 1,
      "metadata": {
        "colab": {
          "base_uri": "https://localhost:8080/"
        },
        "id": "6yhuPmDNMErX",
        "outputId": "e2631442-6556-4252-c76c-1a2e6f6cba93"
      },
      "outputs": [
        {
          "name": "stderr",
          "output_type": "stream",
          "text": [
            "d:\\trylast\\.venv\\Lib\\site-packages\\keras\\src\\layers\\convolutional\\base_conv.py:107: UserWarning: Do not pass an `input_shape`/`input_dim` argument to a layer. When using Sequential models, prefer using an `Input(shape)` object as the first layer in the model instead.\n",
            "  super().__init__(activity_regularizer=activity_regularizer, **kwargs)\n"
          ]
        },
        {
          "name": "stdout",
          "output_type": "stream",
          "text": [
            "Epoch 1/10\n",
            "\u001b[1m1014/1014\u001b[0m \u001b[32m━━━━━━━━━━━━━━━━━━━━\u001b[0m\u001b[37m\u001b[0m \u001b[1m38s\u001b[0m 33ms/step - accuracy: 0.1378 - loss: 4.1885 - val_accuracy: 0.6167 - val_loss: 1.5148\n",
            "Epoch 2/10\n",
            "\u001b[1m1014/1014\u001b[0m \u001b[32m━━━━━━━━━━━━━━━━━━━━\u001b[0m\u001b[37m\u001b[0m \u001b[1m30s\u001b[0m 29ms/step - accuracy: 0.6996 - loss: 1.1098 - val_accuracy: 0.7978 - val_loss: 0.7116\n",
            "Epoch 3/10\n",
            "\u001b[1m1014/1014\u001b[0m \u001b[32m━━━━━━━━━━━━━━━━━━━━\u001b[0m\u001b[37m\u001b[0m \u001b[1m30s\u001b[0m 29ms/step - accuracy: 0.8465 - loss: 0.5327 - val_accuracy: 0.8569 - val_loss: 0.4878\n",
            "Epoch 4/10\n",
            "\u001b[1m1014/1014\u001b[0m \u001b[32m━━━━━━━━━━━━━━━━━━━━\u001b[0m\u001b[37m\u001b[0m \u001b[1m30s\u001b[0m 30ms/step - accuracy: 0.8986 - loss: 0.3357 - val_accuracy: 0.8915 - val_loss: 0.3667\n",
            "Epoch 5/10\n",
            "\u001b[1m1014/1014\u001b[0m \u001b[32m━━━━━━━━━━━━━━━━━━━━\u001b[0m\u001b[37m\u001b[0m \u001b[1m30s\u001b[0m 30ms/step - accuracy: 0.9294 - loss: 0.2256 - val_accuracy: 0.9004 - val_loss: 0.3382\n",
            "Epoch 6/10\n",
            "\u001b[1m1014/1014\u001b[0m \u001b[32m━━━━━━━━━━━━━━━━━━━━\u001b[0m\u001b[37m\u001b[0m \u001b[1m30s\u001b[0m 30ms/step - accuracy: 0.9412 - loss: 0.1787 - val_accuracy: 0.9183 - val_loss: 0.2925\n",
            "Epoch 7/10\n",
            "\u001b[1m1014/1014\u001b[0m \u001b[32m━━━━━━━━━━━━━━━━━━━━\u001b[0m\u001b[37m\u001b[0m \u001b[1m30s\u001b[0m 30ms/step - accuracy: 0.9529 - loss: 0.1546 - val_accuracy: 0.9117 - val_loss: 0.3143\n",
            "Epoch 8/10\n",
            "\u001b[1m1014/1014\u001b[0m \u001b[32m━━━━━━━━━━━━━━━━━━━━\u001b[0m\u001b[37m\u001b[0m \u001b[1m30s\u001b[0m 30ms/step - accuracy: 0.9550 - loss: 0.1407 - val_accuracy: 0.9269 - val_loss: 0.2589\n",
            "Epoch 9/10\n",
            "\u001b[1m1014/1014\u001b[0m \u001b[32m━━━━━━━━━━━━━━━━━━━━\u001b[0m\u001b[37m\u001b[0m \u001b[1m31s\u001b[0m 30ms/step - accuracy: 0.9623 - loss: 0.1182 - val_accuracy: 0.9279 - val_loss: 0.2677\n",
            "Epoch 10/10\n",
            "\u001b[1m1014/1014\u001b[0m \u001b[32m━━━━━━━━━━━━━━━━━━━━\u001b[0m\u001b[37m\u001b[0m \u001b[1m30s\u001b[0m 30ms/step - accuracy: 0.9675 - loss: 0.1011 - val_accuracy: 0.9286 - val_loss: 0.2770\n"
          ]
        },
        {
          "name": "stderr",
          "output_type": "stream",
          "text": [
            "WARNING:absl:You are saving your model as an HDF5 file via `model.save()` or `keras.saving.save_model(model)`. This file format is considered legacy. We recommend using instead the native Keras format, e.g. `model.save('my_model.keras')` or `keras.saving.save_model(model, 'my_model.keras')`. \n",
            "WARNING:absl:Compiled the loaded model, but the compiled metrics have yet to be built. `model.compile_metrics` will be empty until you train or evaluate the model.\n"
          ]
        },
        {
          "ename": "error",
          "evalue": "OpenCV(4.10.0) D:\\a\\opencv-python\\opencv-python\\opencv\\modules\\imgproc\\src\\color.cpp:196: error: (-215:Assertion failed) !_src.empty() in function 'cv::cvtColor'\n",
          "output_type": "error",
          "traceback": [
            "\u001b[1;31m---------------------------------------------------------------------------\u001b[0m",
            "\u001b[1;31merror\u001b[0m                                     Traceback (most recent call last)",
            "Cell \u001b[1;32mIn[1], line 103\u001b[0m\n\u001b[0;32m    101\u001b[0m \u001b[38;5;66;03m# Example usage:\u001b[39;00m\n\u001b[0;32m    102\u001b[0m image_path \u001b[38;5;241m=\u001b[39m \u001b[38;5;124m'\u001b[39m\u001b[38;5;124me:\u001b[39m\u001b[38;5;124m\\\u001b[39m\u001b[38;5;124msignproject\u001b[39m\u001b[38;5;130;01m\\016\u001b[39;00m\u001b[38;5;124m10_frame8.jpg\u001b[39m\u001b[38;5;124m'\u001b[39m\n\u001b[1;32m--> 103\u001b[0m predicted_word \u001b[38;5;241m=\u001b[39m \u001b[43mdetect_sign_cnn\u001b[49m\u001b[43m(\u001b[49m\u001b[43mimage_path\u001b[49m\u001b[43m,\u001b[49m\u001b[43m \u001b[49m\u001b[43mloaded_model\u001b[49m\u001b[43m,\u001b[49m\u001b[43m \u001b[49m\u001b[43mlabel_encoder\u001b[49m\u001b[43m)\u001b[49m\n\u001b[0;32m    104\u001b[0m \u001b[38;5;28mprint\u001b[39m(\u001b[38;5;124mf\u001b[39m\u001b[38;5;124m\"\u001b[39m\u001b[38;5;124mPredicted word: \u001b[39m\u001b[38;5;132;01m{\u001b[39;00mpredicted_word\u001b[38;5;132;01m}\u001b[39;00m\u001b[38;5;124m\"\u001b[39m)\n",
            "Cell \u001b[1;32mIn[1], line 78\u001b[0m, in \u001b[0;36mdetect_sign_cnn\u001b[1;34m(image_path, model, label_encoder)\u001b[0m\n\u001b[0;32m     76\u001b[0m \u001b[38;5;28;01mdef\u001b[39;00m \u001b[38;5;21mdetect_sign_cnn\u001b[39m(image_path, model, label_encoder):\n\u001b[0;32m     77\u001b[0m     image \u001b[38;5;241m=\u001b[39m cv2\u001b[38;5;241m.\u001b[39mimread(image_path)\n\u001b[1;32m---> 78\u001b[0m     image \u001b[38;5;241m=\u001b[39m \u001b[43mcv2\u001b[49m\u001b[38;5;241;43m.\u001b[39;49m\u001b[43mcvtColor\u001b[49m\u001b[43m(\u001b[49m\u001b[43mimage\u001b[49m\u001b[43m,\u001b[49m\u001b[43m \u001b[49m\u001b[43mcv2\u001b[49m\u001b[38;5;241;43m.\u001b[39;49m\u001b[43mCOLOR_BGR2RGB\u001b[49m\u001b[43m)\u001b[49m\n\u001b[0;32m     79\u001b[0m     image \u001b[38;5;241m=\u001b[39m cv2\u001b[38;5;241m.\u001b[39mresize(image, (IMG_SIZE, IMG_SIZE))\n\u001b[0;32m     80\u001b[0m     image \u001b[38;5;241m=\u001b[39m np\u001b[38;5;241m.\u001b[39mexpand_dims(image, axis\u001b[38;5;241m=\u001b[39m\u001b[38;5;241m0\u001b[39m)  \u001b[38;5;66;03m# Expand dimensions to match model input shape\u001b[39;00m\n",
            "\u001b[1;31merror\u001b[0m: OpenCV(4.10.0) D:\\a\\opencv-python\\opencv-python\\opencv\\modules\\imgproc\\src\\color.cpp:196: error: (-215:Assertion failed) !_src.empty() in function 'cv::cvtColor'\n"
          ]
        }
      ],
      "source": [
        "import os\n",
        "import cv2\n",
        "import numpy as np\n",
        "from sklearn.model_selection import train_test_split\n",
        "from sklearn.preprocessing import LabelEncoder\n",
        "import tensorflow as tf\n",
        "from tensorflow.keras import layers, models\n",
        "\n",
        "# Define constants\n",
        "IMG_SIZE = 64  # Resize images to 64x64 pixels\n",
        "\n",
        "# Function to load and preprocess image data\n",
        "def load_data(data_dir):\n",
        "    data = []\n",
        "    labels = []\n",
        "\n",
        "    for word_folder in os.listdir(data_dir):\n",
        "        word_path = os.path.join(data_dir, word_folder)\n",
        "        if os.path.isdir(word_path):\n",
        "            for image_name in os.listdir(word_path):\n",
        "                image_path = os.path.join(word_path, image_name)\n",
        "                image = cv2.imread(image_path)\n",
        "                if image is not None:\n",
        "                    image = cv2.cvtColor(image, cv2.COLOR_BGR2RGB)\n",
        "                    image = cv2.resize(image, (IMG_SIZE, IMG_SIZE))\n",
        "                    data.append(image)\n",
        "                    labels.append(word_folder)\n",
        "\n",
        "    data = np.array(data)\n",
        "    labels = np.array(labels)\n",
        "    return data, labels\n",
        "\n",
        "# Load data\n",
        "DATA_DIR = 'E:\\signproject\\data150'\n",
        "data, labels = load_data(DATA_DIR)\n",
        "\n",
        "# Encode string labels to integers\n",
        "label_encoder = LabelEncoder()\n",
        "labels = label_encoder.fit_transform(labels)\n",
        "\n",
        "# Save the label encoder for later use\n",
        "np.save('classes11150.npy', label_encoder.classes_)\n",
        "\n",
        "# Split data into train and test sets\n",
        "X_train, X_test, y_train, y_test = train_test_split(data, labels, test_size=0.2, random_state=42)\n",
        "\n",
        "# Normalize pixel values to between 0 and 1\n",
        "X_train = X_train / 255.0\n",
        "X_test = X_test / 255.0\n",
        "\n",
        "# Define CNN model\n",
        "model = models.Sequential([\n",
        "    layers.Conv2D(32, (3, 3), activation='relu', input_shape=(IMG_SIZE, IMG_SIZE, 3)),\n",
        "    layers.MaxPooling2D((2, 2)),\n",
        "    layers.Conv2D(64, (3, 3), activation='relu'),\n",
        "    layers.MaxPooling2D((2, 2)),\n",
        "    layers.Conv2D(128, (3, 3), activation='relu'),\n",
        "    layers.MaxPooling2D((2, 2)),\n",
        "    layers.Flatten(),\n",
        "    layers.Dense(128, activation='relu'),\n",
        "    layers.Dense(len(np.unique(labels)), activation='softmax')  # Output layer with softmax for multiclass classification\n",
        "])\n",
        "\n",
        "# Compile the model\n",
        "model.compile(optimizer='adam',\n",
        "              loss='sparse_categorical_crossentropy',\n",
        "              metrics=['accuracy'])\n",
        "\n",
        "# Train the model\n",
        "model.fit(X_train, y_train, epochs=10, validation_data=(X_test, y_test))\n",
        "\n",
        "# Save the trained model\n",
        "model.save('sign_language_cnn_model_word11150.h5')\n",
        "\n",
        "# Example usage of the trained model for prediction\n",
        "def detect_sign_cnn(image_path, model, label_encoder):\n",
        "    image = cv2.imread(image_path)\n",
        "    image = cv2.cvtColor(image, cv2.COLOR_BGR2RGB)\n",
        "    image = cv2.resize(image, (IMG_SIZE, IMG_SIZE))\n",
        "    image = np.expand_dims(image, axis=0)  # Expand dimensions to match model input shape\n",
        "    image = image / 255.0  # Normalize\n",
        "\n",
        "    prediction = model.predict(image)\n",
        "    predicted_class = np.argmax(prediction)\n",
        "\n",
        "    # Convert predicted_class back to the original label\n",
        "    predicted_label = label_encoder.inverse_transform([predicted_class])[0]\n",
        "\n",
        "    return predicted_label\n",
        "\n",
        "# Load the trained model\n",
        "loaded_model = tf.keras.models.load_model('sign_language_cnn_model_word11150.h5')\n",
        "\n",
        "# Load the label encoder classes\n",
        "classes = np.load('classes11150.npy')\n",
        "\n",
        "# Create LabelEncoder instance and load saved classes\n",
        "label_encoder = LabelEncoder()\n",
        "label_encoder.classes_ = classes\n",
        "\n",
        "# Example usage:\n",
        "image_path = 'e:\\signproject\\01610_frame8.jpg'\n",
        "predicted_word = detect_sign_cnn(image_path, loaded_model, label_encoder)\n",
        "print(f\"Predicted word: {predicted_word}\")\n"
      ]
    },
    {
      "cell_type": "code",
      "execution_count": 2,
      "metadata": {
        "colab": {
          "base_uri": "https://localhost:8080/"
        },
        "id": "2wq15ZAaCup-",
        "outputId": "e0cce057-2e5f-4aec-eb0e-36547d5d2699"
      },
      "outputs": [
        {
          "name": "stdout",
          "output_type": "stream",
          "text": [
            "\u001b[1m254/254\u001b[0m \u001b[32m━━━━━━━━━━━━━━━━━━━━\u001b[0m\u001b[37m\u001b[0m \u001b[1m2s\u001b[0m 9ms/step - accuracy: 0.9240 - loss: 0.3033\n",
            "Test accuracy: 0.9286242723464966\n"
          ]
        }
      ],
      "source": [
        "# prompt: check the model accuracy\n",
        "\n",
        "_, test_acc = model.evaluate(X_test, y_test)\n",
        "print('Test accuracy:', test_acc)\n"
      ]
    },
    {
      "cell_type": "code",
      "execution_count": null,
      "metadata": {
        "colab": {
          "base_uri": "https://localhost:8080/",
          "height": 1000
        },
        "id": "ZKHokttZDyCc",
        "outputId": "8b5c7a1c-9bd0-444e-e3bd-a2b2e05b14e9"
      },
      "outputs": [
        {
          "name": "stdout",
          "output_type": "stream",
          "text": [
            "Model: \"sequential_1\"\n",
            "_________________________________________________________________\n",
            " Layer (type)                Output Shape              Param #   \n",
            "=================================================================\n",
            " conv2d_3 (Conv2D)           (None, 62, 62, 32)        896       \n",
            "                                                                 \n",
            " max_pooling2d_3 (MaxPoolin  (None, 31, 31, 32)        0         \n",
            " g2D)                                                            \n",
            "                                                                 \n",
            " conv2d_4 (Conv2D)           (None, 29, 29, 64)        18496     \n",
            "                                                                 \n",
            " max_pooling2d_4 (MaxPoolin  (None, 14, 14, 64)        0         \n",
            " g2D)                                                            \n",
            "                                                                 \n",
            " conv2d_5 (Conv2D)           (None, 12, 12, 128)       73856     \n",
            "                                                                 \n",
            " max_pooling2d_5 (MaxPoolin  (None, 6, 6, 128)         0         \n",
            " g2D)                                                            \n",
            "                                                                 \n",
            " flatten_1 (Flatten)         (None, 4608)              0         \n",
            "                                                                 \n",
            " dense_2 (Dense)             (None, 128)               589952    \n",
            "                                                                 \n",
            " dense_3 (Dense)             (None, 10)                1290      \n",
            "                                                                 \n",
            "=================================================================\n",
            "Total params: 684490 (2.61 MB)\n",
            "Trainable params: 684490 (2.61 MB)\n",
            "Non-trainable params: 0 (0.00 Byte)\n",
            "_________________________________________________________________\n",
            "Epoch 1/10\n",
            "56/56 [==============================] - 1s 27ms/step - loss: 0.0507 - accuracy: 0.9848 - val_loss: 0.0630 - val_accuracy: 0.9730\n",
            "Epoch 2/10\n",
            "56/56 [==============================] - 1s 26ms/step - loss: 0.0332 - accuracy: 0.9899 - val_loss: 0.0489 - val_accuracy: 0.9865\n",
            "Epoch 3/10\n",
            "56/56 [==============================] - 1s 25ms/step - loss: 0.0173 - accuracy: 0.9944 - val_loss: 0.0285 - val_accuracy: 0.9910\n",
            "Epoch 4/10\n",
            "56/56 [==============================] - 1s 25ms/step - loss: 0.0192 - accuracy: 0.9927 - val_loss: 0.0946 - val_accuracy: 0.9820\n",
            "Epoch 5/10\n",
            "56/56 [==============================] - 1s 23ms/step - loss: 0.0094 - accuracy: 0.9983 - val_loss: 0.0246 - val_accuracy: 0.9910\n",
            "Epoch 6/10\n",
            "56/56 [==============================] - 1s 24ms/step - loss: 0.0071 - accuracy: 0.9983 - val_loss: 0.1005 - val_accuracy: 0.9797\n",
            "Epoch 7/10\n",
            "56/56 [==============================] - 1s 24ms/step - loss: 0.0223 - accuracy: 0.9938 - val_loss: 0.0329 - val_accuracy: 0.9865\n",
            "Epoch 8/10\n",
            "56/56 [==============================] - 1s 23ms/step - loss: 0.0780 - accuracy: 0.9814 - val_loss: 0.2653 - val_accuracy: 0.8964\n",
            "Epoch 9/10\n",
            "56/56 [==============================] - 1s 24ms/step - loss: 0.1599 - accuracy: 0.9589 - val_loss: 0.2710 - val_accuracy: 0.9527\n",
            "Epoch 10/10\n",
            "56/56 [==============================] - 1s 24ms/step - loss: 0.0744 - accuracy: 0.9876 - val_loss: 0.0586 - val_accuracy: 0.9797\n"
          ]
        },
        {
          "data": {
            "image/png": "[encoded data removed]",
            "text/plain": [
              "<Figure size 640x480 with 1 Axes>"
            ]
          },
          "metadata": {},
          "output_type": "display_data"
        }
      ],
      "source": [
        "# prompt: check  losses and other thing of model\n",
        "\n",
        "# Print model summary\n",
        "model.summary()\n",
        "\n",
        "# Access training history\n",
        "history = model.fit(X_train, y_train, epochs=10, validation_data=(X_test, y_test))\n",
        "\n",
        "# Plot training history\n",
        "import matplotlib.pyplot as plt\n",
        "\n",
        "plt.plot(history.history['loss'], label='train_loss')\n",
        "plt.plot(history.history['val_loss'], label='val_loss')\n",
        "plt.plot(history.history['accuracy'], label='train_acc')\n",
        "plt.plot(history.history['val_accuracy'], label='val_acc')\n",
        "plt.legend()\n",
        "plt.show()\n"
      ]
    },
    {
      "cell_type": "code",
      "execution_count": null,
      "metadata": {
        "id": "KeLE0oGpD9HW"
      },
      "outputs": [],
      "source": [
        "import numpy as np\n",
        "from sklearn.preprocessing import LabelEncoder\n",
        "\n",
        "# Assuming you have your labels (y_train or y_data in general)\n",
        "# Initialize the LabelEncoder\n",
        "label_encoder = LabelEncoder()\n",
        "\n",
        "# Fit the label encoder to the labels\n",
        "label_encoder.fit(y_train)\n",
        "\n",
        "# Save the LabelEncoder classes for later use\n",
        "np.save('classes.npy', label_encoder.classes_)\n",
        "\n",
        "# You can now proceed with model training\n"
      ]
    },
    {
      "cell_type": "code",
      "execution_count": null,
      "metadata": {
        "colab": {
          "base_uri": "https://localhost:8080/"
        },
        "id": "f-kYiF29KL2-",
        "outputId": "cd9eb9af-6828-4a66-d6cc-9a56d9b019c9"
      },
      "outputs": [
        {
          "name": "stdout",
          "output_type": "stream",
          "text": [
            "1/1 [==============================] - 0s 72ms/step\n",
            "Predicted word: abdomen\n"
          ]
        }
      ],
      "source": [
        "import numpy as np\n",
        "import cv2\n",
        "import tensorflow as tf\n",
        "\n",
        "# Load the saved model\n",
        "loaded_model = tf.keras.models.load_model('sign_language_cnn_model.h5')\n",
        "\n",
        "# Load the saved classes (ensure this contains the actual words, not just numbers)\n",
        "classes = np.load('classes.npy')\n",
        "\n",
        "# Function to predict the word from an image\n",
        "def predict_word(image_path, model, classes):\n",
        "    # Load and preprocess the image\n",
        "    image = cv2.imread(image_path)\n",
        "    image = cv2.cvtColor(image, cv2.COLOR_BGR2RGB)\n",
        "    image = cv2.resize(image, (64, 64))  # Assuming your model input size is 64x64\n",
        "    image = image / 255.0  # Normalize pixel values\n",
        "    image = np.expand_dims(image, axis=0)  # Add batch dimension\n",
        "\n",
        "    # Predict using the model\n",
        "    prediction = model.predict(image)\n",
        "    predicted_class_index = np.argmax(prediction)  # Get the index of the highest predicted score\n",
        "\n",
        "    # Get the corresponding word from the classes\n",
        "    predicted_word = classes[predicted_class_index]  # Get the word based on the index\n",
        "\n",
        "    return predicted_word\n",
        "\n",
        "# Example usage\n",
        "image_path = '/content/drive/MyDrive/sign_frames/abdomen/00335_frame13.jpg'\n",
        "predicted_word = predict_word(image_path, loaded_model, classes)\n",
        "print(f\"Predicted word: {predicted_word}\")\n"
      ]
    },
    {
      "cell_type": "code",
      "execution_count": null,
      "metadata": {
        "colab": {
          "base_uri": "https://localhost:8080/"
        },
        "id": "KbqnnCWVKM2K",
        "outputId": "7e27ccda-1e4b-49d3-c5bd-7047a3bee4ac"
      },
      "outputs": [
        {
          "name": "stdout",
          "output_type": "stream",
          "text": [
            "1/1 [==============================] - 0s 71ms/step\n",
            "Predicted word: 8\n"
          ]
        }
      ],
      "source": [
        "# Load the saved model\n",
        "loaded_model = tf.keras.models.load_model('sign_language_cnn_model.h5')\n",
        "\n",
        "# Load the saved classes\n",
        "classes = np.load('classes.npy', allow_pickle=True)  # Ensure classes.npy contains the names of the actions\n",
        "\n",
        "# Function to predict the word from an image\n",
        "def predict_word(image_path, model, classes):\n",
        "    image = cv2.imread(image_path)\n",
        "    image = cv2.cvtColor(image, cv2.COLOR_BGR2RGB)\n",
        "    image = cv2.resize(image, (IMG_SIZE, IMG_SIZE))\n",
        "    image = image / 255.0\n",
        "    image = np.expand_dims(image, axis=0)\n",
        "\n",
        "    prediction = model.predict(image)\n",
        "    predicted_class = np.argmax(prediction)\n",
        "\n",
        "    predicted_word = classes[predicted_class]  # Fetch the word from the classes array using the predicted index\n",
        "    return predicted_word\n",
        "\n",
        "# Example usage\n",
        "image_path = '/content/drive/MyDrive/sign_frames/above/00431_frame60_frame0.jpg'  # Replace with the actual image path\n",
        "predicted_word = predict_word(image_path, loaded_model, classes)\n",
        "print(f\"Predicted word: {predicted_word}\")\n"
      ]
    },
    {
      "cell_type": "code",
      "execution_count": null,
      "metadata": {
        "id": "roL2vMjfKdN1"
      },
      "outputs": [],
      "source": [
        "# prompt: write open camera real time and prediction\n",
        "\n",
        "import cv2\n",
        "import numpy as np\n",
        "from tensorflow.keras.models import load_model\n",
        "\n",
        "# Load the trained model and classes\n",
        "loaded_model = load_model('sign_language_cnn_model.h5')\n",
        "classes = np.load('classes.npy', allow_pickle=True)\n",
        "\n",
        "# Function to preprocess the frame\n",
        "def preprocess_frame(frame):\n",
        "  frame = cv2.cvtColor(frame, cv2.COLOR_BGR2RGB)\n",
        "  frame = cv2.resize(frame, (IMG_SIZE, IMG_SIZE))\n",
        "  frame = frame / 255.0\n",
        "  frame = np.expand_dims(frame, axis=0)\n",
        "  return frame\n",
        "\n",
        "# Function to predict the sign from the frame\n",
        "def predict_sign(frame, model, classes):\n",
        "  preprocessed_frame = preprocess_frame(frame)\n",
        "  prediction = model.predict(preprocessed_frame)\n",
        "  predicted_class = np.argmax(prediction)\n",
        "  predicted_sign = classes[predicted_class]\n",
        "  return predicted_sign\n",
        "\n",
        "# Open the default camera\n",
        "cap = cv2.VideoCapture(0)\n",
        "if not cap.isOpened():\n",
        "  raise IOError(\"Cannot open webcam\")\n",
        "\n",
        "while(True):\n",
        "  # Read a frame from the camera\n",
        "  ret, frame = cap.read()\n",
        "  if not ret:\n",
        "    break\n",
        "\n",
        "  # Flip the frame horizontally\n",
        "  frame = cv2.flip(frame, 1)\n",
        "\n",
        "  # Predict the sign from the frame\n",
        "  predicted_sign = predict_sign(frame, loaded_model, classes)\n",
        "\n",
        "  # Display the predicted sign on the frame\n",
        "  cv2.putText(frame, predicted_sign, (50, 50), cv2.FONT_HERSHEY_SIMPLEX, 1, (0, 255, 0), 2)\n",
        "\n",
        "  # Display the resulting frame\n",
        "  cv2.imshow('Sign Language Recognition', frame)\n",
        "\n",
        "  # Break the loop if 'q' is pressed\n",
        "  if cv2.waitKey(1) & 0xFF == ord('q'):\n",
        "    break\n",
        "\n",
        "# Release the camera and destroy all windows\n",
        "cap.release()\n",
        "cv2.destroyAllWindows()\n"
      ]
    },
    {
      "cell_type": "code",
      "execution_count": null,
      "metadata": {
        "id": "DbF6YIeDOw-n"
      },
      "outputs": [],
      "source": []
    }
  ],
  "metadata": {
    "colab": {
      "provenance": []
    },
    "kernelspec": {
      "display_name": "Python 3",
      "name": "python3"
    },
    "language_info": {
      "codemirror_mode": {
        "name": "ipython",
        "version": 3
      },
      "file_extension": ".py",
      "mimetype": "text/x-python",
      "name": "python",
      "nbconvert_exporter": "python",
      "pygments_lexer": "ipython3",
      "version": "3.11.8"
    }
  },
  "nbformat": 4,
  "nbformat_minor": 0
}
